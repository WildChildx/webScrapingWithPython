{
  "nbformat": 4,
  "nbformat_minor": 0,
  "metadata": {
    "colab": {
      "name": "Copy of Web Scraping",
      "provenance": [],
      "collapsed_sections": []
    },
    "kernelspec": {
      "name": "python3",
      "display_name": "Python 3"
    },
    "language_info": {
      "name": "python"
    }
  },
  "cells": [
    {
      "cell_type": "code",
      "metadata": {
        "id": "rQZyLfyNdiHj",
        "colab": {
          "base_uri": "https://localhost:8080/"
        },
        "outputId": "2223453b-08e7-4da3-dd59-d433bae9f209"
      },
      "source": [
        "# Execute: shift + enter\n",
        "print(\"Hello World\")"
      ],
      "execution_count": null,
      "outputs": [
        {
          "output_type": "stream",
          "text": [
            "Hello World\n"
          ],
          "name": "stdout"
        }
      ]
    },
    {
      "cell_type": "code",
      "metadata": {
        "id": "oaTz5K5yxDT_"
      },
      "source": [
        ""
      ],
      "execution_count": null,
      "outputs": []
    },
    {
      "cell_type": "code",
      "metadata": {
        "id": "Ux29HeUvdiFo"
      },
      "source": [
        "# creating variables\n",
        "# no need to give datatype\n",
        "n = 7"
      ],
      "execution_count": null,
      "outputs": []
    },
    {
      "cell_type": "code",
      "metadata": {
        "id": "hsly1xZadiDY",
        "colab": {
          "base_uri": "https://localhost:8080/"
        },
        "outputId": "b41633e8-5108-4ee2-98a6-bf260043ed92"
      },
      "source": [
        "# printing variables\n",
        "print(n)"
      ],
      "execution_count": null,
      "outputs": [
        {
          "output_type": "stream",
          "text": [
            "7\n"
          ],
          "name": "stdout"
        }
      ]
    },
    {
      "cell_type": "code",
      "metadata": {
        "id": "qhfYn7IpdiAw",
        "colab": {
          "base_uri": "https://localhost:8080/"
        },
        "outputId": "2b42e3bc-2ce1-42cb-e3c5-0dacc128c9ee"
      },
      "source": [
        "# But all the variables have their data types\n",
        "type(n)"
      ],
      "execution_count": null,
      "outputs": [
        {
          "output_type": "execute_result",
          "data": {
            "text/plain": [
              "int"
            ]
          },
          "metadata": {
            "tags": []
          },
          "execution_count": 139
        }
      ]
    },
    {
      "cell_type": "code",
      "metadata": {
        "id": "s9fM9eindh-p",
        "colab": {
          "base_uri": "https://localhost:8080/"
        },
        "outputId": "f2fa986c-c070-4ef0-cbd6-57f2ac463c44"
      },
      "source": [
        "# Yet, we can change the type of variables.\n",
        "# Example : Here changing from int to str \n",
        "\n",
        "n = \"Hey\"\n",
        "print(n)\n",
        "print(type(n))"
      ],
      "execution_count": null,
      "outputs": [
        {
          "output_type": "stream",
          "text": [
            "Hey\n",
            "<class 'str'>\n"
          ],
          "name": "stdout"
        }
      ]
    },
    {
      "cell_type": "markdown",
      "metadata": {
        "id": "Sx9rXljGeMUL"
      },
      "source": [
        "## Control Flow\n",
        "- If else\n",
        "- Loops\n",
        "    - while loop\n",
        "    - for loop"
      ]
    },
    {
      "cell_type": "code",
      "metadata": {
        "id": "-RqQjlx2dh8i",
        "colab": {
          "base_uri": "https://localhost:8080/"
        },
        "outputId": "62685edb-4479-4853-c367-3b05ddbb3581"
      },
      "source": [
        "age = 15\n",
        "\n",
        "# check if age is greater than equal to 18\n",
        "if (age>=18):\n",
        "    # if yes then print this\n",
        "    print(\"You're eligible to vote.\")    \n",
        "elif (age<12):\n",
        "    # otherwise check if age is smaller than 12. if yes then print this\n",
        "    print(\"Go home kid.\")\n",
        "else:\n",
        "    # if not at the end print this\n",
        "    print(\"Grow up fast.\")"
      ],
      "execution_count": null,
      "outputs": [
        {
          "output_type": "stream",
          "text": [
            "Grow up fast.\n"
          ],
          "name": "stdout"
        }
      ]
    },
    {
      "cell_type": "code",
      "metadata": {
        "id": "mfDlp3Fldh6J",
        "colab": {
          "base_uri": "https://localhost:8080/"
        },
        "outputId": "b36ac4e2-7abe-4ea6-dff8-2cbf0b7f8a86"
      },
      "source": [
        "i = 0\n",
        "\n",
        "while (i<=10):\n",
        "    # repeate this part till i>10\n",
        "    print(i, end=\", \")\n",
        "    i +=1"
      ],
      "execution_count": null,
      "outputs": [
        {
          "output_type": "stream",
          "text": [
            "0, 1, 2, 3, 4, 5, 6, 7, 8, 9, 10, "
          ],
          "name": "stdout"
        }
      ]
    },
    {
      "cell_type": "code",
      "metadata": {
        "id": "FjBlzdttdh34"
      },
      "source": [
        ""
      ],
      "execution_count": null,
      "outputs": []
    },
    {
      "cell_type": "code",
      "metadata": {
        "id": "8iCLRNjcdh1q",
        "colab": {
          "base_uri": "https://localhost:8080/"
        },
        "outputId": "5f0a3c8c-1f61-4fb3-b897-074d721066a5"
      },
      "source": [
        "# k is a variable that takes values from 5 to 19\n",
        "for k in range(5, 20):\n",
        "  print(k, end=\" \")"
      ],
      "execution_count": null,
      "outputs": [
        {
          "output_type": "stream",
          "text": [
            "5 6 7 8 9 10 11 12 13 14 15 16 17 18 19 "
          ],
          "name": "stdout"
        }
      ]
    },
    {
      "cell_type": "code",
      "metadata": {
        "id": "ZxJ4xbyQdhzn"
      },
      "source": [
        ""
      ],
      "execution_count": null,
      "outputs": []
    },
    {
      "cell_type": "markdown",
      "metadata": {
        "id": "pPchtoHAeYpl"
      },
      "source": [
        "# Data Structures in Python\n",
        " - List\n",
        " - dictionary"
      ]
    },
    {
      "cell_type": "code",
      "metadata": {
        "id": "psowqmLDdhxN"
      },
      "source": [
        "li = [5,2,9,10, 56, 23]"
      ],
      "execution_count": null,
      "outputs": []
    },
    {
      "cell_type": "code",
      "metadata": {
        "id": "vVUQ-KtRdhvJ",
        "colab": {
          "base_uri": "https://localhost:8080/"
        },
        "outputId": "4247d675-2cd4-492a-f63d-94451618e30b"
      },
      "source": [
        "type(li)"
      ],
      "execution_count": null,
      "outputs": [
        {
          "output_type": "execute_result",
          "data": {
            "text/plain": [
              "list"
            ]
          },
          "metadata": {
            "tags": []
          },
          "execution_count": 145
        }
      ]
    },
    {
      "cell_type": "code",
      "metadata": {
        "id": "ZECd_YN0dhs3",
        "colab": {
          "base_uri": "https://localhost:8080/"
        },
        "outputId": "36d4b632-9e99-4285-a0f0-ba0c1fd09609"
      },
      "source": [
        "print(li[0])\n",
        "print(li[1])\n",
        "print(li[-1]) # Negative Indexing\n",
        "print(li[-6])"
      ],
      "execution_count": null,
      "outputs": [
        {
          "output_type": "stream",
          "text": [
            "5\n",
            "2\n",
            "23\n",
            "5\n"
          ],
          "name": "stdout"
        }
      ]
    },
    {
      "cell_type": "code",
      "metadata": {
        "id": "aFW7w5DWdhqi"
      },
      "source": [
        "# Heterogenous List\n",
        "li2 = [5,2,9,10, \"Hello World\", True, 6.4, 9.0, [1,2,3], 33, 11]"
      ],
      "execution_count": null,
      "outputs": []
    },
    {
      "cell_type": "code",
      "metadata": {
        "id": "IV0t2zsCdhoj",
        "colab": {
          "base_uri": "https://localhost:8080/"
        },
        "outputId": "22953a5f-51d6-40fd-a404-1c2c41f8e8a2"
      },
      "source": [
        "for ele in li2:\n",
        "  print(type(ele))\n",
        "  print(ele)"
      ],
      "execution_count": null,
      "outputs": [
        {
          "output_type": "stream",
          "text": [
            "<class 'int'>\n",
            "5\n",
            "<class 'int'>\n",
            "2\n",
            "<class 'int'>\n",
            "9\n",
            "<class 'int'>\n",
            "10\n",
            "<class 'str'>\n",
            "Hello World\n",
            "<class 'bool'>\n",
            "True\n",
            "<class 'float'>\n",
            "6.4\n",
            "<class 'float'>\n",
            "9.0\n",
            "<class 'list'>\n",
            "[1, 2, 3]\n",
            "<class 'int'>\n",
            "33\n",
            "<class 'int'>\n",
            "11\n"
          ],
          "name": "stdout"
        }
      ]
    },
    {
      "cell_type": "code",
      "metadata": {
        "id": "trbOk0Jndhme"
      },
      "source": [
        ""
      ],
      "execution_count": null,
      "outputs": []
    },
    {
      "cell_type": "markdown",
      "metadata": {
        "id": "j1nlkTKfel5X"
      },
      "source": [
        "# Dictionary\n",
        "- used as a HashMap\n",
        "- stores data in key:value pair\n",
        "- access time is O(1)"
      ]
    },
    {
      "cell_type": "code",
      "metadata": {
        "id": "wA_CRt9ddhkU"
      },
      "source": [
        "food_menu = {\"samosa\" : 10, \"burger\" : 25,\"pizza\":10}"
      ],
      "execution_count": null,
      "outputs": []
    },
    {
      "cell_type": "code",
      "metadata": {
        "id": "eUHRTkTmdhiT",
        "colab": {
          "base_uri": "https://localhost:8080/"
        },
        "outputId": "b4368085-bcdf-4315-cee5-f216979ba034"
      },
      "source": [
        "type(food_menu)"
      ],
      "execution_count": null,
      "outputs": [
        {
          "output_type": "execute_result",
          "data": {
            "text/plain": [
              "dict"
            ]
          },
          "metadata": {
            "tags": []
          },
          "execution_count": 150
        }
      ]
    },
    {
      "cell_type": "code",
      "metadata": {
        "id": "7VIHdx7idhgM",
        "colab": {
          "base_uri": "https://localhost:8080/"
        },
        "outputId": "17295f5c-a38f-48b3-f485-66e7ccc17902"
      },
      "source": [
        "print(food_menu)"
      ],
      "execution_count": null,
      "outputs": [
        {
          "output_type": "stream",
          "text": [
            "{'samosa': 10, 'burger': 25, 'pizza': 10}\n"
          ],
          "name": "stdout"
        }
      ]
    },
    {
      "cell_type": "code",
      "metadata": {
        "id": "aoaxerggdheG",
        "colab": {
          "base_uri": "https://localhost:8080/"
        },
        "outputId": "8bbf73f9-28b6-47be-9a58-4cb05d246df0"
      },
      "source": [
        "print(food_menu['burger'])"
      ],
      "execution_count": null,
      "outputs": [
        {
          "output_type": "stream",
          "text": [
            "25\n"
          ],
          "name": "stdout"
        }
      ]
    },
    {
      "cell_type": "code",
      "metadata": {
        "id": "gAN0O_ujdhcL",
        "colab": {
          "base_uri": "https://localhost:8080/"
        },
        "outputId": "8224b678-ba30-467e-ad05-0d71dc10abbc"
      },
      "source": [
        "print(food_menu['pizza'])"
      ],
      "execution_count": null,
      "outputs": [
        {
          "output_type": "stream",
          "text": [
            "10\n"
          ],
          "name": "stdout"
        }
      ]
    },
    {
      "cell_type": "code",
      "metadata": {
        "id": "sFfB5bA9dhZ7"
      },
      "source": [
        "# adding elements to dictionary\n",
        "food_menu['pizza'] = 100"
      ],
      "execution_count": null,
      "outputs": []
    },
    {
      "cell_type": "code",
      "metadata": {
        "id": "ZtIbHji-dhYE"
      },
      "source": [
        ""
      ],
      "execution_count": null,
      "outputs": []
    },
    {
      "cell_type": "code",
      "metadata": {
        "id": "3FfwBVa3dhVm"
      },
      "source": [
        ""
      ],
      "execution_count": null,
      "outputs": []
    },
    {
      "cell_type": "code",
      "metadata": {
        "id": "VslCg_t-dhTj"
      },
      "source": [
        ""
      ],
      "execution_count": null,
      "outputs": []
    },
    {
      "cell_type": "code",
      "metadata": {
        "id": "dqbpMozBdhQ7"
      },
      "source": [
        ""
      ],
      "execution_count": null,
      "outputs": []
    },
    {
      "cell_type": "markdown",
      "metadata": {
        "id": "5RVpCMSEeyUZ"
      },
      "source": [
        "# Getting Data from an API"
      ]
    },
    {
      "cell_type": "code",
      "metadata": {
        "id": "gqu4CcO0VFpn"
      },
      "source": [
        "import requests\n",
        "import json"
      ],
      "execution_count": null,
      "outputs": []
    },
    {
      "cell_type": "code",
      "metadata": {
        "id": "GNkZpwTHVHD8"
      },
      "source": [
        "url = \"https://www.boredapi.com/api/activity\""
      ],
      "execution_count": null,
      "outputs": []
    },
    {
      "cell_type": "code",
      "metadata": {
        "id": "FRIy2CwgVMeC"
      },
      "source": [
        "res = requests.get(url)"
      ],
      "execution_count": null,
      "outputs": []
    },
    {
      "cell_type": "code",
      "metadata": {
        "id": "EpPj7XXYVOea",
        "colab": {
          "base_uri": "https://localhost:8080/"
        },
        "outputId": "8b6331fb-2866-4278-b5a1-3ff4ed26aa85"
      },
      "source": [
        "res.status_code"
      ],
      "execution_count": null,
      "outputs": [
        {
          "output_type": "execute_result",
          "data": {
            "text/plain": [
              "200"
            ]
          },
          "metadata": {
            "tags": []
          },
          "execution_count": 158
        }
      ]
    },
    {
      "cell_type": "code",
      "metadata": {
        "id": "DMoCqpcgVQnM",
        "colab": {
          "base_uri": "https://localhost:8080/"
        },
        "outputId": "7e23efc1-2661-4645-9ed6-240cceb6a0d1"
      },
      "source": [
        "print(res.text)"
      ],
      "execution_count": null,
      "outputs": [
        {
          "output_type": "stream",
          "text": [
            "{\"activity\":\"Memorize the fifty states and their capitals\",\"type\":\"education\",\"participants\":1,\"price\":0,\"link\":\"\",\"key\":\"4179309\",\"accessibility\":0}\n"
          ],
          "name": "stdout"
        }
      ]
    },
    {
      "cell_type": "code",
      "metadata": {
        "id": "00axvBl2VTGI"
      },
      "source": [
        "result = json.loads(res.text)"
      ],
      "execution_count": null,
      "outputs": []
    },
    {
      "cell_type": "code",
      "metadata": {
        "id": "YopeUfjaVY2A",
        "colab": {
          "base_uri": "https://localhost:8080/"
        },
        "outputId": "71648fff-1791-4a45-e4fd-5fb03dfb2c97"
      },
      "source": [
        "print(result)"
      ],
      "execution_count": null,
      "outputs": [
        {
          "output_type": "stream",
          "text": [
            "{'activity': 'Memorize the fifty states and their capitals', 'type': 'education', 'participants': 1, 'price': 0, 'link': '', 'key': '4179309', 'accessibility': 0}\n"
          ],
          "name": "stdout"
        }
      ]
    },
    {
      "cell_type": "code",
      "metadata": {
        "id": "G8DlnBORVbPE",
        "colab": {
          "base_uri": "https://localhost:8080/",
          "height": 35
        },
        "outputId": "6a6c8313-302f-41dd-d145-691351570103"
      },
      "source": [
        "result['activity']"
      ],
      "execution_count": null,
      "outputs": [
        {
          "output_type": "execute_result",
          "data": {
            "application/vnd.google.colaboratory.intrinsic+json": {
              "type": "string"
            },
            "text/plain": [
              "'Memorize the fifty states and their capitals'"
            ]
          },
          "metadata": {
            "tags": []
          },
          "execution_count": 162
        }
      ]
    },
    {
      "cell_type": "markdown",
      "metadata": {
        "id": "JrlTNhkcVnJa"
      },
      "source": [
        "# Get University Data"
      ]
    },
    {
      "cell_type": "code",
      "metadata": {
        "id": "Odu091_kVm4B"
      },
      "source": [
        "url = \"http://universities.hipolabs.com/search?country=India\""
      ],
      "execution_count": null,
      "outputs": []
    },
    {
      "cell_type": "code",
      "metadata": {
        "id": "llyTIPOGVdyz"
      },
      "source": [
        "res = requests.get(url)"
      ],
      "execution_count": null,
      "outputs": []
    },
    {
      "cell_type": "code",
      "metadata": {
        "id": "UlCW-gtAV-me",
        "colab": {
          "base_uri": "https://localhost:8080/"
        },
        "outputId": "76b61b45-ce0b-4957-a558-2713996bd6ca"
      },
      "source": [
        "res.status_code"
      ],
      "execution_count": null,
      "outputs": [
        {
          "output_type": "execute_result",
          "data": {
            "text/plain": [
              "200"
            ]
          },
          "metadata": {
            "tags": []
          },
          "execution_count": 165
        }
      ]
    },
    {
      "cell_type": "code",
      "metadata": {
        "id": "giM0JeWPV_lC"
      },
      "source": [
        "universities = json.loads(res.text)"
      ],
      "execution_count": null,
      "outputs": []
    },
    {
      "cell_type": "code",
      "metadata": {
        "id": "0PW_L7x0WBp8",
        "colab": {
          "base_uri": "https://localhost:8080/"
        },
        "outputId": "cb84a4d2-ca93-4177-c987-e65a9760d925"
      },
      "source": [
        "len(universities)"
      ],
      "execution_count": null,
      "outputs": [
        {
          "output_type": "execute_result",
          "data": {
            "text/plain": [
              "800"
            ]
          },
          "metadata": {
            "tags": []
          },
          "execution_count": 167
        }
      ]
    },
    {
      "cell_type": "code",
      "metadata": {
        "id": "kshs1Ub-WEDg",
        "colab": {
          "base_uri": "https://localhost:8080/"
        },
        "outputId": "853f0e99-9057-4536-ebed-bdb812b4ab16"
      },
      "source": [
        "universities[100]"
      ],
      "execution_count": null,
      "outputs": [
        {
          "output_type": "execute_result",
          "data": {
            "text/plain": [
              "{'alpha_two_code': 'IN',\n",
              " 'country': 'India',\n",
              " 'domains': ['gurukuluniversity.org'],\n",
              " 'name': 'Gurukul University',\n",
              " 'state-province': None,\n",
              " 'web_pages': ['http://www.gurukuluniversity.org/']}"
            ]
          },
          "metadata": {
            "tags": []
          },
          "execution_count": 168
        }
      ]
    },
    {
      "cell_type": "code",
      "metadata": {
        "id": "25CIq0mYWKt_"
      },
      "source": [
        ""
      ],
      "execution_count": null,
      "outputs": []
    },
    {
      "cell_type": "markdown",
      "metadata": {
        "id": "bk2D-CNQZHKK"
      },
      "source": [
        "# Scraping Quotes Data\n",
        "**library used : BeautifulSoup**"
      ]
    },
    {
      "cell_type": "code",
      "metadata": {
        "id": "8RfmKyEQZG03"
      },
      "source": [
        "import bs4\n",
        "import requests"
      ],
      "execution_count": null,
      "outputs": []
    },
    {
      "cell_type": "code",
      "metadata": {
        "id": "F-Nv1_DEZS9I"
      },
      "source": [
        "url = \"https://quotes.toscrape.com/page/1\""
      ],
      "execution_count": null,
      "outputs": []
    },
    {
      "cell_type": "code",
      "metadata": {
        "id": "k6WwnvCRZYZd"
      },
      "source": [
        "res = requests.get(url)"
      ],
      "execution_count": null,
      "outputs": []
    },
    {
      "cell_type": "code",
      "metadata": {
        "id": "cq6t88W-ZaDL",
        "colab": {
          "base_uri": "https://localhost:8080/"
        },
        "outputId": "6b1f16c9-50b0-4cbc-f841-f7b362816313"
      },
      "source": [
        "res.status_code"
      ],
      "execution_count": null,
      "outputs": [
        {
          "output_type": "execute_result",
          "data": {
            "text/plain": [
              "200"
            ]
          },
          "metadata": {
            "tags": []
          },
          "execution_count": 60
        }
      ]
    },
    {
      "cell_type": "code",
      "metadata": {
        "id": "wwKLb7YJZbi7"
      },
      "source": [
        "html = res.text"
      ],
      "execution_count": null,
      "outputs": []
    },
    {
      "cell_type": "code",
      "metadata": {
        "id": "AvgmdPGoZdnR"
      },
      "source": [
        "soup = bs4.BeautifulSoup(html)"
      ],
      "execution_count": null,
      "outputs": []
    },
    {
      "cell_type": "code",
      "metadata": {
        "id": "81YTc2oKZhpQ",
        "colab": {
          "base_uri": "https://localhost:8080/"
        },
        "outputId": "71d574d1-25c7-4eb7-fe12-7efbe6c444ec"
      },
      "source": [
        "type(soup)"
      ],
      "execution_count": null,
      "outputs": [
        {
          "output_type": "execute_result",
          "data": {
            "text/plain": [
              "bs4.BeautifulSoup"
            ]
          },
          "metadata": {
            "tags": []
          },
          "execution_count": 63
        }
      ]
    },
    {
      "cell_type": "code",
      "metadata": {
        "id": "RyoLX2kuZoZK",
        "colab": {
          "base_uri": "https://localhost:8080/"
        },
        "outputId": "dfd56d80-3b40-447f-d99c-918eabd35867"
      },
      "source": [
        "soup.title"
      ],
      "execution_count": null,
      "outputs": [
        {
          "output_type": "execute_result",
          "data": {
            "text/plain": [
              "<title>Quotes to Scrape</title>"
            ]
          },
          "metadata": {
            "tags": []
          },
          "execution_count": 64
        }
      ]
    },
    {
      "cell_type": "code",
      "metadata": {
        "id": "u5FCibzQZwvs",
        "colab": {
          "base_uri": "https://localhost:8080/",
          "height": 35
        },
        "outputId": "2d83e6b3-c593-4dee-a51d-866ae97fc5f3"
      },
      "source": [
        "soup.h1.text"
      ],
      "execution_count": null,
      "outputs": [
        {
          "output_type": "execute_result",
          "data": {
            "application/vnd.google.colaboratory.intrinsic+json": {
              "type": "string"
            },
            "text/plain": [
              "'\\nQuotes to Scrape\\n'"
            ]
          },
          "metadata": {
            "tags": []
          },
          "execution_count": 65
        }
      ]
    },
    {
      "cell_type": "code",
      "metadata": {
        "id": "vf4k8gqFZ8Qh"
      },
      "source": [
        "box = soup.find('div',  attrs={\"class\": \"quote\"} )"
      ],
      "execution_count": null,
      "outputs": []
    },
    {
      "cell_type": "code",
      "metadata": {
        "id": "UeWVhcCbaVGL",
        "colab": {
          "base_uri": "https://localhost:8080/"
        },
        "outputId": "f465b38c-b1f4-4287-9373-295cfd369d53"
      },
      "source": [
        "box"
      ],
      "execution_count": null,
      "outputs": [
        {
          "output_type": "execute_result",
          "data": {
            "text/plain": [
              "<div class=\"quote\" itemscope=\"\" itemtype=\"http://schema.org/CreativeWork\">\n",
              "<span class=\"text\" itemprop=\"text\">“The world as we have created it is a process of our thinking. It cannot be changed without changing our thinking.”</span>\n",
              "<span>by <small class=\"author\" itemprop=\"author\">Albert Einstein</small>\n",
              "<a href=\"/author/Albert-Einstein\">(about)</a>\n",
              "</span>\n",
              "<div class=\"tags\">\n",
              "            Tags:\n",
              "            <meta class=\"keywords\" content=\"change,deep-thoughts,thinking,world\" itemprop=\"keywords\"/>\n",
              "<a class=\"tag\" href=\"/tag/change/page/1/\">change</a>\n",
              "<a class=\"tag\" href=\"/tag/deep-thoughts/page/1/\">deep-thoughts</a>\n",
              "<a class=\"tag\" href=\"/tag/thinking/page/1/\">thinking</a>\n",
              "<a class=\"tag\" href=\"/tag/world/page/1/\">world</a>\n",
              "</div>\n",
              "</div>"
            ]
          },
          "metadata": {
            "tags": []
          },
          "execution_count": 67
        }
      ]
    },
    {
      "cell_type": "code",
      "metadata": {
        "id": "EAEdE1nja6Sc"
      },
      "source": [
        "quote = box.span.text"
      ],
      "execution_count": null,
      "outputs": []
    },
    {
      "cell_type": "code",
      "metadata": {
        "id": "bLIsv67Na8zc"
      },
      "source": [
        "author = box.find('small').text"
      ],
      "execution_count": null,
      "outputs": []
    },
    {
      "cell_type": "code",
      "metadata": {
        "id": "yOW4qb3QbH2C",
        "colab": {
          "base_uri": "https://localhost:8080/"
        },
        "outputId": "93d5815e-8371-445d-bf9f-1c6a13ebb3cd"
      },
      "source": [
        "print(quote)\n",
        "print(\"-by\",author)"
      ],
      "execution_count": null,
      "outputs": [
        {
          "output_type": "stream",
          "text": [
            "“The world as we have created it is a process of our thinking. It cannot be changed without changing our thinking.”\n",
            "-by Albert Einstein\n"
          ],
          "name": "stdout"
        }
      ]
    },
    {
      "cell_type": "code",
      "metadata": {
        "id": "Vq-_2cORbXbx"
      },
      "source": [
        ""
      ],
      "execution_count": null,
      "outputs": []
    },
    {
      "cell_type": "markdown",
      "metadata": {
        "id": "VnXpMZ0LbeGH"
      },
      "source": [
        "# Scrape All the Quotes"
      ]
    },
    {
      "cell_type": "code",
      "metadata": {
        "id": "lfzWqniubd14"
      },
      "source": [
        "all_boxes = soup.find_all('div',  attrs={\"class\": \"quote\"} )"
      ],
      "execution_count": null,
      "outputs": []
    },
    {
      "cell_type": "code",
      "metadata": {
        "id": "IILG780qbjTr",
        "colab": {
          "base_uri": "https://localhost:8080/"
        },
        "outputId": "4d3616b6-234b-48ea-ab75-13df97c0829d"
      },
      "source": [
        "for one_box in all_boxes:\n",
        "    print(\"==\"*50)\n",
        "    quote = one_box.span.text\n",
        "    author = one_box.find('small').text\n",
        "\n",
        "    print(quote)\n",
        "    print(\"- by\",author)\n"
      ],
      "execution_count": null,
      "outputs": [
        {
          "output_type": "stream",
          "text": [
            "====================================================================================================\n",
            "“The world as we have created it is a process of our thinking. It cannot be changed without changing our thinking.”\n",
            "- by Albert Einstein\n",
            "====================================================================================================\n",
            "“It is our choices, Harry, that show what we truly are, far more than our abilities.”\n",
            "- by J.K. Rowling\n",
            "====================================================================================================\n",
            "“There are only two ways to live your life. One is as though nothing is a miracle. The other is as though everything is a miracle.”\n",
            "- by Albert Einstein\n",
            "====================================================================================================\n",
            "“The person, be it gentleman or lady, who has not pleasure in a good novel, must be intolerably stupid.”\n",
            "- by Jane Austen\n",
            "====================================================================================================\n",
            "“Imperfection is beauty, madness is genius and it's better to be absolutely ridiculous than absolutely boring.”\n",
            "- by Marilyn Monroe\n",
            "====================================================================================================\n",
            "“Try not to become a man of success. Rather become a man of value.”\n",
            "- by Albert Einstein\n",
            "====================================================================================================\n",
            "“It is better to be hated for what you are than to be loved for what you are not.”\n",
            "- by André Gide\n",
            "====================================================================================================\n",
            "“I have not failed. I've just found 10,000 ways that won't work.”\n",
            "- by Thomas A. Edison\n",
            "====================================================================================================\n",
            "“A woman is like a tea bag; you never know how strong it is until it's in hot water.”\n",
            "- by Eleanor Roosevelt\n",
            "====================================================================================================\n",
            "“A day without sunshine is like, you know, night.”\n",
            "- by Steve Martin\n"
          ],
          "name": "stdout"
        }
      ]
    },
    {
      "cell_type": "code",
      "metadata": {
        "id": "dIqnU5UVb3IU"
      },
      "source": [
        ""
      ],
      "execution_count": null,
      "outputs": []
    }
  ]
}